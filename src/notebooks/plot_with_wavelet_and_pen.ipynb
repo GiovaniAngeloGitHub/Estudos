{
 "cells": [
  {
   "cell_type": "markdown",
   "id": "915a8428",
   "metadata": {},
   "source": [
    "Código Fonte gerado pelo Joison Rego joilson.rego@ufrn.br "
   ]
  },
  {
   "cell_type": "code",
   "execution_count": null,
   "id": "9a9124e8",
   "metadata": {},
   "outputs": [],
   "source": [
    "\n",
    "import librosa\n",
    "import librosa.display\n",
    "import matplotlib.pyplot as plt\n",
    "import numpy as np\n",
    "import pywt\n",
    "import os\n",
    "from pathlib import Path\n",
    "\n",
    "base_path = Path().resolve().parents[1]\n",
    "\n",
    "# === FILES ===\n",
    "audio_file = base_path / \"data\" / \"llb11_00249_2018_05_05_06_01_31.wav\"\n",
    "\n",
    "# === PARAMETERS ===\n",
    "n_fft = 1024\n",
    "hop_length = 256\n",
    "wavelet_name = 'morl'\n",
    "#scales = np.arange(1, 128)\n",
    "scales = np.logspace(0, np.log10(128), num=128)\n",
    "\n",
    "print(f\"Processing: {os.path.basename(audio_file)}\")\n",
    "\n",
    "# Load\n",
    "y, sr = librosa.load(audio_file, sr=None)\n",
    "duration = len(y) / sr\n",
    "print(f\"Sample rate: {sr}, Duration: {duration:.2f} seconds\")"
   ]
  },
  {
   "cell_type": "code",
   "execution_count": null,
   "id": "ab137e52",
   "metadata": {},
   "outputs": [],
   "source": [
    "\n",
    "\n",
    "# === PLOT WAVEFORM ===\n",
    "plt.figure(figsize=(14, 3))\n",
    "librosa.display.waveshow(y, sr=sr)\n",
    "plt.title(f\"Waveform: {os.path.basename(audio_file)}\")\n",
    "plt.xlabel('Time (s)')\n",
    "plt.ylabel('Amplitude')\n",
    "plt.show()\n"
   ]
  },
  {
   "cell_type": "code",
   "execution_count": null,
   "id": "c0ec7ba4",
   "metadata": {},
   "outputs": [],
   "source": [
    "\n",
    "# === STFT + PCEN Spectrogram ===\n",
    "S = np.abs(librosa.stft(y, n_fft=n_fft, hop_length=hop_length, window='hann'))\n",
    "print(f\"STFT shape: {S.shape}\")\n",
    "\n",
    "# Apply PCEN to the *magnitude* spectrogram\n",
    "pcen_spectrogram = librosa.pcen(S, sr=sr, hop_length=hop_length)\n",
    "\n",
    "plt.figure(figsize=(14, 4))\n",
    "librosa.display.specshow(\n",
    "    pcen_spectrogram,\n",
    "    sr=sr,\n",
    "    hop_length=hop_length,\n",
    "    x_axis='time',\n",
    "    y_axis='log',\n",
    "    cmap='magma'\n",
    ")\n",
    "plt.colorbar(format='%+2.0f')\n",
    "plt.title(f\"PCEN Spectrogram: {os.path.basename(audio_file)}\")\n",
    "plt.show()\n"
   ]
  },
  {
   "cell_type": "code",
   "execution_count": null,
   "id": "bc914b41",
   "metadata": {},
   "outputs": [],
   "source": [
    "\n",
    "# === Wavelet Scalogram ===\n",
    "print(\"Computing Wavelet Transform (this can take time)...\")\n",
    "coeffs, freqs = pywt.cwt(y, scales, wavelet_name, sampling_period=1/sr)\n",
    "print(f\"Wavelet frequencies: {freqs.min():.2f} Hz to {freqs.max():.2f} Hz\")\n",
    "\n",
    "plt.figure(figsize=(14, 4))\n",
    "plt.imshow(\n",
    "    np.abs(coeffs),\n",
    "    extent=[0, duration, freqs[-1], freqs[0]],\n",
    "    cmap='viridis',\n",
    "    aspect='auto'\n",
    ")\n",
    "plt.colorbar(label='Magnitude')\n",
    "plt.title(f\"Wavelet Scalogram (CWT): {os.path.basename(audio_file)}\")\n",
    "plt.xlabel('Time (s)')\n",
    "plt.ylabel('Frequency (Hz)')\n",
    "plt.show()\n",
    "\n",
    "print(\"\\n\" + \"=\"*60 + \"\\n\")\n"
   ]
  }
 ],
 "metadata": {
  "kernelspec": {
   "display_name": "Estudos",
   "language": "python",
   "name": "python3"
  },
  "language_info": {
   "codemirror_mode": {
    "name": "ipython",
    "version": 3
   },
   "file_extension": ".py",
   "mimetype": "text/x-python",
   "name": "python",
   "nbconvert_exporter": "python",
   "pygments_lexer": "ipython3",
   "version": "3.12.8"
  }
 },
 "nbformat": 4,
 "nbformat_minor": 5
}
